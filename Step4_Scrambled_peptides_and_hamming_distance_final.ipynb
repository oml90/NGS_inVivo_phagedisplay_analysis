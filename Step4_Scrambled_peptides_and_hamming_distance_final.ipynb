{
 "cells": [
  {
   "cell_type": "code",
   "execution_count": 1,
   "id": "428d6eba",
   "metadata": {},
   "outputs": [],
   "source": [
    "import random\n",
    "import pandas as pd\n",
    "from Bio import pairwise2\n",
    "from Bio.Align import substitution_matrices"
   ]
  },
  {
   "cell_type": "code",
   "execution_count": 6,
   "id": "c4099004",
   "metadata": {},
   "outputs": [],
   "source": [
    "#peptides ordered from SB tech\n",
    "pep1 = '*********'\n",
    "pep2 = '*********'"
   ]
  },
  {
   "cell_type": "code",
   "execution_count": null,
   "id": "e32d28c2",
   "metadata": {},
   "outputs": [],
   "source": [
    "scambledpeps = {}\n",
    "for thepep in [pep1,pep2]:\n",
    "    print(thepep)\n",
    "    peplist = []\n",
    "    while len(peplist) < 10:\n",
    "        j = ''.join(random.sample(thepep,len(thepep)))\n",
    "        np = ''.join(j)\n",
    "        hammingdis = 0\n",
    "        for p1,p2 in zip(thepep,np):\n",
    "            if p1!=p2: hammingdis += 1\n",
    "        #print(np,' hDis:',hammingdis)\n",
    "        if hammingdis == len(thepep): \n",
    "            print('np',' hDis:',hammingdis)\n",
    "            if np not in peplist:\n",
    "                peplist.append(np)\n",
    "    scambledpeps[thepep] = peplist"
   ]
  },
  {
   "cell_type": "code",
   "execution_count": 4,
   "id": "3999bbc4",
   "metadata": {},
   "outputs": [],
   "source": [
    "blosum62 = substitution_matrices.load(\"BLOSUM62\")"
   ]
  },
  {
   "cell_type": "code",
   "execution_count": 5,
   "id": "aec9e000",
   "metadata": {},
   "outputs": [],
   "source": [
    "scramb_df = pd.DataFrame()\n",
    "for ii,x in enumerate(scambledpeps):\n",
    "    sdf = pd.DataFrame(scambledpeps[x])\n",
    "    sdf.columns = ['scrambled_pep']\n",
    "    sdf['ref_pep'] = 10*[x]\n",
    "    sdf['ref_name'] = 10*['TX{}'.format(ii+2)]\n",
    "    sdf['hamming_dist'] = 10*[20]\n",
    "    sim_score = []\n",
    "    for i,d in sdf.iterrows():\n",
    "        ref = d.ref_pep\n",
    "        scram = d.scrambled_pep\n",
    "        alignment = pairwise2.align.globalds(ref, scram, blosum62, -0.5, -0.05 ,score_only=True)\n",
    "        sim_score.append(alignment)\n",
    "    sdf['blosum62_sim_score'] = sim_score\n",
    "    scramb_df = pd.concat([scramb_df,sdf])\n",
    "scramb_df.sort_values(['ref_name','blosum62_sim_score'],inplace=True)"
   ]
  },
  {
   "cell_type": "code",
   "execution_count": 37,
   "id": "3279f55a",
   "metadata": {},
   "outputs": [],
   "source": [
    "scamb_df.to_csv('Scambled_peptides_and_hammingDist.csv',sep=',')"
   ]
  },
  {
   "cell_type": "code",
   "execution_count": null,
   "id": "b71e5d08",
   "metadata": {},
   "outputs": [],
   "source": []
  }
 ],
 "metadata": {
  "kernelspec": {
   "display_name": "Python 3 (ipykernel)",
   "language": "python",
   "name": "python3"
  },
  "language_info": {
   "codemirror_mode": {
    "name": "ipython",
    "version": 3
   },
   "file_extension": ".py",
   "mimetype": "text/x-python",
   "name": "python",
   "nbconvert_exporter": "python",
   "pygments_lexer": "ipython3",
   "version": "3.10.4"
  }
 },
 "nbformat": 4,
 "nbformat_minor": 5
}
