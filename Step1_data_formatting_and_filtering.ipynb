{
 "cells": [
  {
   "cell_type": "code",
   "execution_count": 1,
   "id": "96777b52",
   "metadata": {},
   "outputs": [],
   "source": [
    "import pandas as pd\n",
    "import matplotlib.pyplot as plt\n",
    "from matplotlib_venn import venn3, venn3_circles\n",
    "import numpy as np\n",
    "from tqdm import tqdm\n",
    "import seaborn as sns\n",
    "import matplotlib.patches as mpatches\n",
    "from os import listdir "
   ]
  },
  {
   "cell_type": "code",
   "execution_count": 2,
   "id": "5a5074d1",
   "metadata": {},
   "outputs": [],
   "source": [
    "# filter sequences according to specific rules for each library\n",
    "def validity_test(seq,lib):\n",
    "    if lib == '7':\n",
    "        if (seq[:3]=='SAC') & (seq[-5:]=='CGGGS'): return True\n",
    "        else: return False\n",
    "    elif lib == '9':\n",
    "        if (seq[0]=='X') & (seq[-1]=='X'): return True #flanks are unknown\n",
    "        else: return False\n",
    "    elif lib == '12':\n",
    "        if (seq[0]=='S') & (seq[-4:]=='GGGS'): return True\n",
    "        else: return False\n",
    "    elif lib == '16':\n",
    "        if (seq[0]=='S') & (seq[-1]=='S'): return True\n",
    "        else: return False\n",
    "    elif lib == '20':\n",
    "        if (seq[0]=='S') & (seq[-1]=='S'): return True\n",
    "        else: return False\n",
    "    else: return 'Error'"
   ]
  },
  {
   "cell_type": "code",
   "execution_count": 3,
   "id": "2ffdd6a3",
   "metadata": {},
   "outputs": [],
   "source": [
    "library_lengths = {'7':15,  #starts with 'ac' ends with 'cgggs'\n",
    "                   '9':9,   #unknown 9 is probably wrong\n",
    "                   '12':17, #starts with 's' ends with 'gggs'\n",
    "                   '16':18, #starts and ends with 's'\n",
    "                   '20':22  #starts and ends with 's'\n",
    "                  }"
   ]
  },
  {
   "cell_type": "code",
   "execution_count": 6,
   "id": "bc68efba",
   "metadata": {
    "scrolled": true
   },
   "outputs": [
    {
     "name": "stdout",
     "output_type": "stream",
     "text": [
      "RN-1194_full_iEC_WT_ENG_KRIT1.csv\n"
     ]
    },
    {
     "name": "stderr",
     "output_type": "stream",
     "text": [
      "100%|████████████████████████████████████████████████████████████████████████████████| 135/135 [00:59<00:00,  2.25it/s]\n"
     ]
    },
    {
     "name": "stdout",
     "output_type": "stream",
     "text": [
      "RN-1208_full_HUVEC_HUAEC.csv\n"
     ]
    },
    {
     "name": "stderr",
     "output_type": "stream",
     "text": [
      " 19%|███████████████▍                                                                  | 17/90 [00:39<02:14,  1.84s/it]"
     ]
    },
    {
     "name": "stdout",
     "output_type": "stream",
     "text": [
      "('HUAEC', '16', '3', 'Nucleus')  0\n"
     ]
    },
    {
     "name": "stderr",
     "output_type": "stream",
     "text": [
      " 39%|███████████████████████████████▉                                                  | 35/90 [01:14<00:23,  2.35it/s]"
     ]
    },
    {
     "name": "stdout",
     "output_type": "stream",
     "text": [
      "('HUAEC', '7', '3', 'Nucleus')  0\n"
     ]
    },
    {
     "name": "stderr",
     "output_type": "stream",
     "text": [
      " 53%|███████████████████████████████████████████▋                                      | 48/90 [01:34<01:03,  1.50s/it]"
     ]
    },
    {
     "name": "stdout",
     "output_type": "stream",
     "text": [
      "('HUVEC', '12', '2', 'Cytosol')  0\n"
     ]
    },
    {
     "name": "stderr",
     "output_type": "stream",
     "text": [
      " 83%|████████████████████████████████████████████████████████████████████▎             | 75/90 [02:57<00:24,  1.67s/it]"
     ]
    },
    {
     "name": "stdout",
     "output_type": "stream",
     "text": [
      "('HUVEC', '7', '2', 'Cytosol')  0\n",
      "('HUVEC', '7', '2', 'Debris')  0\n"
     ]
    },
    {
     "name": "stderr",
     "output_type": "stream",
     "text": [
      "100%|██████████████████████████████████████████████████████████████████████████████████| 90/90 [02:58<00:00,  1.98s/it]\n"
     ]
    },
    {
     "name": "stdout",
     "output_type": "stream",
     "text": [
      "('HUVEC', '7', '3', 'Nucleus')  0\n",
      "RN-1209_full_iENG_KO_mouse_kidney.csv\n"
     ]
    },
    {
     "name": "stderr",
     "output_type": "stream",
     "text": [
      "100%|██████████████████████████████████████████████████████████████████████████████████| 21/21 [00:13<00:00,  1.53it/s]\n"
     ]
    },
    {
     "name": "stdout",
     "output_type": "stream",
     "text": [
      "RN-1223_full_iENG_KO_mouse_PS.csv\n"
     ]
    },
    {
     "name": "stderr",
     "output_type": "stream",
     "text": [
      "100%|██████████████████████████████████████████████████████████████████████████████████| 21/21 [00:08<00:00,  2.62it/s]\n"
     ]
    },
    {
     "name": "stdout",
     "output_type": "stream",
     "text": [
      "RN-1224_full_inVivo_PD_HUVEC_Tie2_xenograft.csv\n"
     ]
    },
    {
     "name": "stderr",
     "output_type": "stream",
     "text": [
      "100%|██████████████████████████████████████████████████████████████████████████████████| 46/46 [00:25<00:00,  1.81it/s]\n"
     ]
    },
    {
     "name": "stdout",
     "output_type": "stream",
     "text": [
      "RN-1249_full_inVivo_PD_HUVEC_Tie2_kidney_liver.csv\n"
     ]
    },
    {
     "name": "stderr",
     "output_type": "stream",
     "text": [
      "100%|██████████████████████████████████████████████████████████████████████████████████| 30/30 [16:25<00:00, 32.84s/it]\n"
     ]
    },
    {
     "name": "stdout",
     "output_type": "stream",
     "text": [
      "RN-1276_full_CCM2_Tie2LF.csv\n"
     ]
    },
    {
     "name": "stderr",
     "output_type": "stream",
     "text": [
      "100%|██████████████████████████████████████████████████████████████████████████████████| 90/90 [00:37<00:00,  2.43it/s]\n"
     ]
    },
    {
     "name": "stdout",
     "output_type": "stream",
     "text": [
      "RN-1352_full_alk1_KO.csv\n"
     ]
    },
    {
     "name": "stderr",
     "output_type": "stream",
     "text": [
      "100%|██████████████████████████████████████████████████████████████████████████████████| 45/45 [00:13<00:00,  3.26it/s]\n"
     ]
    }
   ],
   "source": [
    "for f in listdir('All_NGS_raw/'):\n",
    "    if f[-3:] != 'csv': continue # ignore xlsx files\n",
    "    print(f)\n",
    "    seq_data0 = pd.read_csv('All_NGS_raw/{}'.format(f),sep=';')\n",
    "    file_ID = f.split('.')[0]  \n",
    "    file_ID\n",
    "    # add columns 'cell line', 'library', 'round', 'subcellular fraction'    \n",
    "    celllist = []\n",
    "    liblist = []\n",
    "    roundlist = []\n",
    "    fraclist = []\n",
    "    for line in seq_data0['Sample']:\n",
    "        lnls = line.split('_')\n",
    "        lnls.remove('FK')\n",
    "        lnls.remove('VACure')\n",
    "        if 'iEC' in lnls: lnls.remove('iEC')\n",
    "        if 'PS' in lnls: lnls.remove('PS')\n",
    "        if not lnls[1].isdigit():\n",
    "            lnls.append(lnls[1])\n",
    "            del lnls[1]\n",
    "        celllist.append(lnls[0])\n",
    "        liblist.append(lnls[1])\n",
    "        roundlist.append(lnls[2])\n",
    "        fraclist.append(lnls[3])\n",
    "    seq_data0['cell_line']= celllist\n",
    "    seq_data0['library']=liblist\n",
    "    seq_data0['round']=roundlist\n",
    "    seq_data0['fraction']=fraclist\n",
    "    # preprocessing check\n",
    "    #for g,dataf in tqdm(seq_data0.groupby(by=['cell_line','library','round','fraction'])):\n",
    "        #if g[1] == '9': continue\n",
    "        #print(g,len(dataf))\n",
    "    #continue\n",
    "    # remove peptides with stop codon ('*') or with NaN value\n",
    "    seq_data0.dropna(subset='Protein',inplace=True)\n",
    "    seq_data = seq_data0[~seq_data0['Protein'].str.contains('\\*')].copy()\n",
    "    \n",
    "    # dont run this if you dont need to, it takes a long time (10mins)\n",
    "    df_final = pd.DataFrame()\n",
    "    #df_final_top20 = pd.DataFrame()\n",
    "    for g,dataf in tqdm(seq_data.groupby(by=['cell_line','library','round','fraction'])):\n",
    "        output = pd.DataFrame()\n",
    "        lib = g[1]\n",
    "        seqlen = library_lengths[lib]\n",
    "        if lib == '9': continue # currently unknown flanks\n",
    "        tlen_data = dataf[dataf['ProteinLength']==seqlen].copy()\n",
    "        if len(tlen_data) == 0: \n",
    "            print(g,' 0')\n",
    "        else:\n",
    "            for j,p in tlen_data.groupby('Protein'):\n",
    "                valid = validity_test(j,lib)\n",
    "                if valid:\n",
    "                    if len(p) > 1:\n",
    "                        outdf = p.iloc[:1].copy()\n",
    "                        sums = p.sum()\n",
    "                        outdf['Count'] = sums['Count']\n",
    "                        outdf['Percentage'] = sums['Percentage']\n",
    "                        outdf['seq_count'] = len(p)\n",
    "                        output = pd.concat([output,outdf])\n",
    "                    else:\n",
    "                        solo_df = p.copy()\n",
    "                        solo_df['seq_count'] = len(p)\n",
    "                        output = pd.concat([output,solo_df])\n",
    "                else: continue # if not valid\n",
    "            if len(output) == 0: print(g,' 0')\n",
    "            else: \n",
    "                output.sort_values('Count',ascending=False,inplace=True)\n",
    "                df_final = pd.concat([df_final,output])\n",
    "        #df_final_top20 = pd.concat([df_final_top20,output[:20]])\n",
    "    \n",
    "    df_final.to_csv('All_NGS_filtered/{}_filtered.csv'.format(f),sep=',')\n",
    "    \n",
    "    # check count for each subgrouping\n",
    "    for g,df in df_final.groupby(['cell_line','library','round','fraction']):\n",
    "        print(g,len(df))\n"
   ]
  },
  {
   "cell_type": "code",
   "execution_count": null,
   "id": "cdff6a5b",
   "metadata": {},
   "outputs": [],
   "source": [
    "tlen_data"
   ]
  },
  {
   "cell_type": "markdown",
   "id": "d8d6f47f",
   "metadata": {},
   "source": [
    "# get numbers for publication"
   ]
  },
  {
   "cell_type": "code",
   "execution_count": 24,
   "id": "ada2d4dd",
   "metadata": {},
   "outputs": [
    {
     "name": "stdout",
     "output_type": "stream",
     "text": [
      "RN-1224_full_inVivo_PD_HUVEC_Tie2_xenograft.csv\n",
      "RN-1249_full_inVivo_PD_HUVEC_Tie2_kidney_liver.csv\n",
      "RN-1276_full_CCM2_Tie2LF.csv\n"
     ]
    }
   ],
   "source": [
    "indf = pd.DataFrame()\n",
    "for f in listdir('All_NGS_raw/'):\n",
    "    if 'tie' not in f.lower(): continue\n",
    "    if f[-3:] != 'csv': continue # ignore xlsx files\n",
    "    print(f)\n",
    "    seq_data0 = pd.read_csv('All_NGS_raw/{}'.format(f),sep=';')\n",
    "    file_ID = f.split('.')[0]  \n",
    "    file_ID\n",
    "    # add columns 'cell line', 'library', 'round', 'subcellular fraction'    \n",
    "    celllist = []\n",
    "    liblist = []\n",
    "    roundlist = []\n",
    "    fraclist = []\n",
    "    for line in seq_data0['Sample']:\n",
    "        lnls = line.split('_')\n",
    "        lnls.remove('FK')\n",
    "        lnls.remove('VACure')\n",
    "        if 'iEC' in lnls: lnls.remove('iEC')\n",
    "        if 'PS' in lnls: lnls.remove('PS')\n",
    "        if not lnls[1].isdigit():\n",
    "            lnls.append(lnls[1])\n",
    "            del lnls[1]\n",
    "        celllist.append(lnls[0])\n",
    "        liblist.append(lnls[1])\n",
    "        roundlist.append(lnls[2])\n",
    "        fraclist.append(lnls[3])\n",
    "    seq_data0['cell_line']= celllist\n",
    "    seq_data0['library']=liblist\n",
    "    seq_data0['round']=roundlist\n",
    "    seq_data0['fraction']=fraclist\n",
    "    #display(seq_data0)\n",
    "    \n",
    "    #load and Combine all NGS data into one df\n",
    "    \n",
    "    if f == 'RN-1223_full_iENG_KO_mouse_PS':\n",
    "        seq_data0 = seq_data0[seq_data0['Sample'] != 'VACure_ENGKOmice_FK_PS_7_1_Cytosol'].copy() # this test was rerun in another file, so we remove this set  \n",
    "    indf = pd.concat([indf, seq_data0], axis=0)\n",
    "indf.reset_index(drop=True, inplace=True)"
   ]
  },
  {
   "cell_type": "code",
   "execution_count": 25,
   "id": "965643fe",
   "metadata": {},
   "outputs": [],
   "source": [
    "#remove unwanted samples from dataset\n",
    "mydf0 = indf[indf['fraction'] != 'Heart'].copy()\n",
    "mydf1 = mydf0[mydf0['library'] != '9'].copy()"
   ]
  },
  {
   "cell_type": "code",
   "execution_count": 28,
   "id": "b5800a3d",
   "metadata": {},
   "outputs": [],
   "source": [
    "# reapply label columns\n",
    "cell_linels = []\n",
    "libraryls = []\n",
    "roundls = []\n",
    "fracls = []\n",
    "for e in mydf1['Sample']:\n",
    "    lnls = e.split('_')\n",
    "    lnls.remove('FK')\n",
    "    lnls.remove('VACure')\n",
    "    lnset = set(lnls)\n",
    "    \n",
    "    if '7' in lnset:    libraryls.append('7'); lnset.remove('7')\n",
    "    elif '12' in lnset: libraryls.append('12'); lnset.remove('12')\n",
    "    elif '16' in lnset: libraryls.append('16'); lnset.remove('16')\n",
    "    elif '20' in lnset: libraryls.append('20'); lnset.remove('20')\n",
    "    else: print('no library found:',e)    \n",
    "    \n",
    "    if '1' in lnset:   roundls.append('1'); lnset.remove('1')\n",
    "    elif '2' in lnset: roundls.append('2'); lnset.remove('2')\n",
    "    elif '3' in lnset: roundls.append('3'); lnset.remove('3')\n",
    "    else: print('no round found:',e)\n",
    "    \n",
    "    if 'C' in lnset:         fracls.append('Cytosol'); lnset.remove('C')\n",
    "    elif 'Cytosol' in lnset: fracls.append('Cytosol'); lnset.remove('Cytosol')\n",
    "    elif 'N' in lnset:       fracls.append('Nucleus'); lnset.remove('N')\n",
    "    elif 'Nucleus' in lnset: fracls.append('Nucleus'); lnset.remove('Nucleus')\n",
    "    elif 'D' in lnset:       fracls.append('Debris'); lnset.remove('D')\n",
    "    elif 'Debris' in lnset:  fracls.append('Debris'); lnset.remove('Debris')\n",
    "    else: fracls.append('ND')\n",
    "    \n",
    "    cell_linels.append('-'.join(sorted(lnset)))\n",
    "    \n",
    "mydf1['cell_line'] = cell_linels\n",
    "mydf1['library'] = libraryls\n",
    "mydf1['round'] = roundls\n",
    "mydf1['fraction'] = fracls"
   ]
  },
  {
   "cell_type": "code",
   "execution_count": 75,
   "id": "3a2ecb2f",
   "metadata": {},
   "outputs": [
    {
     "data": {
      "text/plain": [
       "array(['Tie2LF-Xenograft', 'WT-Xenograft', 'Kidney-Xenograft',\n",
       "       'Liver-Xenograft'], dtype=object)"
      ]
     },
     "execution_count": 75,
     "metadata": {},
     "output_type": "execute_result"
    }
   ],
   "source": [
    "mydf = mydf1[mydf1['cell_line'].str.contains('Xenograft')].copy()\n",
    "mydf.cell_line.unique()"
   ]
  },
  {
   "cell_type": "code",
   "execution_count": 81,
   "id": "769bcd02",
   "metadata": {},
   "outputs": [
    {
     "data": {
      "text/html": [
       "<div>\n",
       "<style scoped>\n",
       "    .dataframe tbody tr th:only-of-type {\n",
       "        vertical-align: middle;\n",
       "    }\n",
       "\n",
       "    .dataframe tbody tr th {\n",
       "        vertical-align: top;\n",
       "    }\n",
       "\n",
       "    .dataframe thead th {\n",
       "        text-align: right;\n",
       "    }\n",
       "</style>\n",
       "<table border=\"1\" class=\"dataframe\">\n",
       "  <thead>\n",
       "    <tr style=\"text-align: right;\">\n",
       "      <th></th>\n",
       "      <th>Sample</th>\n",
       "      <th>Count</th>\n",
       "      <th>Percentage</th>\n",
       "      <th>Sequence</th>\n",
       "      <th>Protein</th>\n",
       "      <th>ProteinLength</th>\n",
       "      <th>cell_line</th>\n",
       "      <th>library</th>\n",
       "      <th>round</th>\n",
       "      <th>fraction</th>\n",
       "    </tr>\n",
       "  </thead>\n",
       "  <tbody>\n",
       "    <tr>\n",
       "      <th>522875</th>\n",
       "      <td>VACure_Xenograft_FK_Liver_16_3</td>\n",
       "      <td>225444</td>\n",
       "      <td>52.92460</td>\n",
       "      <td>TCC</td>\n",
       "      <td>S</td>\n",
       "      <td>1</td>\n",
       "      <td>Liver-Xenograft</td>\n",
       "      <td>16</td>\n",
       "      <td>3</td>\n",
       "      <td>ND</td>\n",
       "    </tr>\n",
       "    <tr>\n",
       "      <th>285165</th>\n",
       "      <td>VACure_Xenograft_FK_Kidney_12_3</td>\n",
       "      <td>216649</td>\n",
       "      <td>49.14600</td>\n",
       "      <td>TCC</td>\n",
       "      <td>S</td>\n",
       "      <td>1</td>\n",
       "      <td>Kidney-Xenograft</td>\n",
       "      <td>12</td>\n",
       "      <td>3</td>\n",
       "      <td>ND</td>\n",
       "    </tr>\n",
       "    <tr>\n",
       "      <th>298763</th>\n",
       "      <td>VACure_Xenograft_FK_Kidney_16_2</td>\n",
       "      <td>212778</td>\n",
       "      <td>46.95660</td>\n",
       "      <td>TCC</td>\n",
       "      <td>S</td>\n",
       "      <td>1</td>\n",
       "      <td>Kidney-Xenograft</td>\n",
       "      <td>16</td>\n",
       "      <td>2</td>\n",
       "      <td>ND</td>\n",
       "    </tr>\n",
       "    <tr>\n",
       "      <th>307150</th>\n",
       "      <td>VACure_Xenograft_FK_Kidney_16_3</td>\n",
       "      <td>209263</td>\n",
       "      <td>51.20940</td>\n",
       "      <td>TCC</td>\n",
       "      <td>S</td>\n",
       "      <td>1</td>\n",
       "      <td>Kidney-Xenograft</td>\n",
       "      <td>16</td>\n",
       "      <td>3</td>\n",
       "      <td>ND</td>\n",
       "    </tr>\n",
       "    <tr>\n",
       "      <th>515888</th>\n",
       "      <td>VACure_Xenograft_FK_Liver_16_2</td>\n",
       "      <td>207691</td>\n",
       "      <td>50.28980</td>\n",
       "      <td>TCC</td>\n",
       "      <td>S</td>\n",
       "      <td>1</td>\n",
       "      <td>Liver-Xenograft</td>\n",
       "      <td>16</td>\n",
       "      <td>2</td>\n",
       "      <td>ND</td>\n",
       "    </tr>\n",
       "    <tr>\n",
       "      <th>...</th>\n",
       "      <td>...</td>\n",
       "      <td>...</td>\n",
       "      <td>...</td>\n",
       "      <td>...</td>\n",
       "      <td>...</td>\n",
       "      <td>...</td>\n",
       "      <td>...</td>\n",
       "      <td>...</td>\n",
       "      <td>...</td>\n",
       "      <td>...</td>\n",
       "    </tr>\n",
       "    <tr>\n",
       "      <th>475950</th>\n",
       "      <td>VACure_Xenograft_FK_Liver_16_1</td>\n",
       "      <td>15912</td>\n",
       "      <td>4.76938</td>\n",
       "      <td>TCG</td>\n",
       "      <td>S</td>\n",
       "      <td>1</td>\n",
       "      <td>Liver-Xenograft</td>\n",
       "      <td>16</td>\n",
       "      <td>1</td>\n",
       "      <td>ND</td>\n",
       "    </tr>\n",
       "    <tr>\n",
       "      <th>26579</th>\n",
       "      <td>VACure_Xenograft_FK_Tie2LF_12_2_Nucleus</td>\n",
       "      <td>15754</td>\n",
       "      <td>12.86230</td>\n",
       "      <td>TCG</td>\n",
       "      <td>S</td>\n",
       "      <td>1</td>\n",
       "      <td>Tie2LF-Xenograft</td>\n",
       "      <td>12</td>\n",
       "      <td>2</td>\n",
       "      <td>Nucleus</td>\n",
       "    </tr>\n",
       "    <tr>\n",
       "      <th>307149</th>\n",
       "      <td>VACure_Xenograft_FK_Kidney_16_2</td>\n",
       "      <td>15485</td>\n",
       "      <td>3.42000</td>\n",
       "      <td>unmatched</td>\n",
       "      <td>NaN</td>\n",
       "      <td>0</td>\n",
       "      <td>Kidney-Xenograft</td>\n",
       "      <td>16</td>\n",
       "      <td>2</td>\n",
       "      <td>ND</td>\n",
       "    </tr>\n",
       "    <tr>\n",
       "      <th>659791</th>\n",
       "      <td>VACure_Xenograft_FK_Liver_20_3</td>\n",
       "      <td>14709</td>\n",
       "      <td>3.49535</td>\n",
       "      <td>TCTAGTAGTTTTGGTATGTCGAGTCAGCTTATTAGTCATGGTGGAG...</td>\n",
       "      <td>SSSFGMSSQLISHGGGS</td>\n",
       "      <td>17</td>\n",
       "      <td>Liver-Xenograft</td>\n",
       "      <td>20</td>\n",
       "      <td>3</td>\n",
       "      <td>ND</td>\n",
       "    </tr>\n",
       "    <tr>\n",
       "      <th>342166</th>\n",
       "      <td>VACure_Xenograft_FK_Kidney_20_2</td>\n",
       "      <td>14573</td>\n",
       "      <td>3.71000</td>\n",
       "      <td>unmatched</td>\n",
       "      <td>NaN</td>\n",
       "      <td>0</td>\n",
       "      <td>Kidney-Xenograft</td>\n",
       "      <td>20</td>\n",
       "      <td>2</td>\n",
       "      <td>ND</td>\n",
       "    </tr>\n",
       "  </tbody>\n",
       "</table>\n",
       "<p>150 rows × 10 columns</p>\n",
       "</div>"
      ],
      "text/plain": [
       "                                         Sample   Count  Percentage  \\\n",
       "522875           VACure_Xenograft_FK_Liver_16_3  225444    52.92460   \n",
       "285165          VACure_Xenograft_FK_Kidney_12_3  216649    49.14600   \n",
       "298763          VACure_Xenograft_FK_Kidney_16_2  212778    46.95660   \n",
       "307150          VACure_Xenograft_FK_Kidney_16_3  209263    51.20940   \n",
       "515888           VACure_Xenograft_FK_Liver_16_2  207691    50.28980   \n",
       "...                                         ...     ...         ...   \n",
       "475950           VACure_Xenograft_FK_Liver_16_1   15912     4.76938   \n",
       "26579   VACure_Xenograft_FK_Tie2LF_12_2_Nucleus   15754    12.86230   \n",
       "307149          VACure_Xenograft_FK_Kidney_16_2   15485     3.42000   \n",
       "659791           VACure_Xenograft_FK_Liver_20_3   14709     3.49535   \n",
       "342166          VACure_Xenograft_FK_Kidney_20_2   14573     3.71000   \n",
       "\n",
       "                                                 Sequence            Protein  \\\n",
       "522875                                                TCC                  S   \n",
       "285165                                                TCC                  S   \n",
       "298763                                                TCC                  S   \n",
       "307150                                                TCC                  S   \n",
       "515888                                                TCC                  S   \n",
       "...                                                   ...                ...   \n",
       "475950                                                TCG                  S   \n",
       "26579                                                 TCG                  S   \n",
       "307149                                          unmatched                NaN   \n",
       "659791  TCTAGTAGTTTTGGTATGTCGAGTCAGCTTATTAGTCATGGTGGAG...  SSSFGMSSQLISHGGGS   \n",
       "342166                                          unmatched                NaN   \n",
       "\n",
       "        ProteinLength         cell_line library round fraction  \n",
       "522875              1   Liver-Xenograft      16     3       ND  \n",
       "285165              1  Kidney-Xenograft      12     3       ND  \n",
       "298763              1  Kidney-Xenograft      16     2       ND  \n",
       "307150              1  Kidney-Xenograft      16     3       ND  \n",
       "515888              1   Liver-Xenograft      16     2       ND  \n",
       "...               ...               ...     ...   ...      ...  \n",
       "475950              1   Liver-Xenograft      16     1       ND  \n",
       "26579               1  Tie2LF-Xenograft      12     2  Nucleus  \n",
       "307149              0  Kidney-Xenograft      16     2       ND  \n",
       "659791             17   Liver-Xenograft      20     3       ND  \n",
       "342166              0  Kidney-Xenograft      20     2       ND  \n",
       "\n",
       "[150 rows x 10 columns]"
      ]
     },
     "execution_count": 81,
     "metadata": {},
     "output_type": "execute_result"
    }
   ],
   "source": [
    "mydf.sort_values('Count',ascending=False)[:150]"
   ]
  },
  {
   "cell_type": "code",
   "execution_count": 68,
   "id": "9fcaf9ae",
   "metadata": {
    "scrolled": true
   },
   "outputs": [
    {
     "data": {
      "text/plain": [
       "16888323"
      ]
     },
     "execution_count": 68,
     "metadata": {},
     "output_type": "execute_result"
    }
   ],
   "source": [
    "mydf.Count.sum()"
   ]
  },
  {
   "cell_type": "code",
   "execution_count": 45,
   "id": "ef11e761",
   "metadata": {},
   "outputs": [
    {
     "data": {
      "text/plain": [
       "366991"
      ]
     },
     "execution_count": 45,
     "metadata": {},
     "output_type": "execute_result"
    }
   ],
   "source": [
    "mydf.Protein.nunique()"
   ]
  },
  {
   "cell_type": "code",
   "execution_count": 57,
   "id": "e1a9a988",
   "metadata": {},
   "outputs": [],
   "source": [
    "mydf_fil = pd.read_csv('all_NGS_data_combined.csv',sep=',')"
   ]
  },
  {
   "cell_type": "code",
   "execution_count": 64,
   "id": "1741ad42",
   "metadata": {},
   "outputs": [
    {
     "data": {
      "text/plain": [
       "array(['Kidney-Xenograft', 'Liver-Xenograft', 'Tie2LF-Xenograft',\n",
       "       'WT-Xenograft'], dtype=object)"
      ]
     },
     "execution_count": 64,
     "metadata": {},
     "output_type": "execute_result"
    }
   ],
   "source": [
    "mydf_xeno = mydf_fil[mydf_fil.cell_line.str.contains('Xeno')]\n",
    "mydf_xeno.cell_line.unique()"
   ]
  },
  {
   "cell_type": "code",
   "execution_count": 65,
   "id": "9dd9df08",
   "metadata": {},
   "outputs": [
    {
     "data": {
      "text/plain": [
       "1983819"
      ]
     },
     "execution_count": 65,
     "metadata": {},
     "output_type": "execute_result"
    }
   ],
   "source": [
    "mydf_xeno.Count.sum()"
   ]
  },
  {
   "cell_type": "code",
   "execution_count": 67,
   "id": "e370863f",
   "metadata": {},
   "outputs": [
    {
     "data": {
      "text/plain": [
       "174559"
      ]
     },
     "execution_count": 67,
     "metadata": {},
     "output_type": "execute_result"
    }
   ],
   "source": [
    "mydf_xeno.Protein.nunique()"
   ]
  },
  {
   "cell_type": "code",
   "execution_count": null,
   "id": "ff899068",
   "metadata": {},
   "outputs": [],
   "source": []
  }
 ],
 "metadata": {
  "kernelspec": {
   "display_name": "Python 3 (ipykernel)",
   "language": "python",
   "name": "python3"
  },
  "language_info": {
   "codemirror_mode": {
    "name": "ipython",
    "version": 3
   },
   "file_extension": ".py",
   "mimetype": "text/x-python",
   "name": "python",
   "nbconvert_exporter": "python",
   "pygments_lexer": "ipython3",
   "version": "3.10.4"
  }
 },
 "nbformat": 4,
 "nbformat_minor": 5
}
